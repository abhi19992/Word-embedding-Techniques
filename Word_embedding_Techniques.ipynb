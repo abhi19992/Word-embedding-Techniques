{
  "cells": [
    {
      "cell_type": "markdown",
      "metadata": {
        "id": "view-in-github",
        "colab_type": "text"
      },
      "source": [
        "<a href=\"https://colab.research.google.com/github/abhi19992/Word-embedding-Techniques/blob/main/Word_embedding_Techniques.ipynb\" target=\"_parent\"><img src=\"https://colab.research.google.com/assets/colab-badge.svg\" alt=\"Open In Colab\"/></a>"
      ]
    },
    {
      "cell_type": "markdown",
      "metadata": {
        "id": "eHNf7J680XF-"
      },
      "source": [
        "### Word Embedding Techniques using Embedding Layer in Keras"
      ]
    },
    {
      "cell_type": "code",
      "execution_count": null,
      "metadata": {
        "id": "PEsK0_yl0XGB"
      },
      "outputs": [],
      "source": [
        "### Libraries USed Tensorflow> 2.0  and keras"
      ]
    },
    {
      "cell_type": "code",
      "execution_count": 1,
      "metadata": {
        "colab": {
          "base_uri": "https://localhost:8080/"
        },
        "id": "pslw1Ya90XGC",
        "outputId": "beabe8f6-ad53-46c2-c25c-a409dca086ab"
      },
      "outputs": [
        {
          "output_type": "stream",
          "name": "stdout",
          "text": [
            "Looking in indexes: https://pypi.org/simple, https://us-python.pkg.dev/colab-wheels/public/simple/\n",
            "Collecting tensorflow-gpu\n",
            "  Downloading tensorflow-gpu-2.12.0.tar.gz (2.6 kB)\n",
            "  Preparing metadata (setup.py) ... \u001b[?25l\u001b[?25hdone\n",
            "Collecting python_version>\"3.7\"\n",
            "  Downloading python_version-0.0.2-py2.py3-none-any.whl (3.4 kB)\n",
            "Building wheels for collected packages: tensorflow-gpu\n",
            "  \u001b[1;31merror\u001b[0m: \u001b[1msubprocess-exited-with-error\u001b[0m\n",
            "  \n",
            "  \u001b[31m×\u001b[0m \u001b[32mpython setup.py bdist_wheel\u001b[0m did not run successfully.\n",
            "  \u001b[31m│\u001b[0m exit code: \u001b[1;36m1\u001b[0m\n",
            "  \u001b[31m╰─>\u001b[0m See above for output.\n",
            "  \n",
            "  \u001b[1;35mnote\u001b[0m: This error originates from a subprocess, and is likely not a problem with pip.\n",
            "  Building wheel for tensorflow-gpu (setup.py) ... \u001b[?25lerror\n",
            "\u001b[31m  ERROR: Failed building wheel for tensorflow-gpu\u001b[0m\u001b[31m\n",
            "\u001b[0m\u001b[?25h  Running setup.py clean for tensorflow-gpu\n",
            "Failed to build tensorflow-gpu\n",
            "Installing collected packages: python_version, tensorflow-gpu\n",
            "  \u001b[1;31merror\u001b[0m: \u001b[1msubprocess-exited-with-error\u001b[0m\n",
            "  \n",
            "  \u001b[31m×\u001b[0m \u001b[32mRunning setup.py install for tensorflow-gpu\u001b[0m did not run successfully.\n",
            "  \u001b[31m│\u001b[0m exit code: \u001b[1;36m1\u001b[0m\n",
            "  \u001b[31m╰─>\u001b[0m See above for output.\n",
            "  \n",
            "  \u001b[1;35mnote\u001b[0m: This error originates from a subprocess, and is likely not a problem with pip.\n",
            "  Running setup.py install for tensorflow-gpu ... \u001b[?25l\u001b[?25herror\n",
            "\u001b[1;31merror\u001b[0m: \u001b[1mlegacy-install-failure\u001b[0m\n",
            "\n",
            "\u001b[31m×\u001b[0m Encountered error while trying to install package.\n",
            "\u001b[31m╰─>\u001b[0m tensorflow-gpu\n",
            "\n",
            "\u001b[1;35mnote\u001b[0m: This is an issue with the package mentioned above, not pip.\n",
            "\u001b[1;36mhint\u001b[0m: See above for output from the failure.\n"
          ]
        }
      ],
      "source": [
        "!pip install tensorflow-gpu"
      ]
    },
    {
      "cell_type": "code",
      "source": [
        "import tensorflow as tf\n",
        "print(tf.__version__)"
      ],
      "metadata": {
        "colab": {
          "base_uri": "https://localhost:8080/"
        },
        "id": "yZ5hceiMAX7n",
        "outputId": "11702e20-da70-4b57-8c28-c6a03f1a5cae"
      },
      "execution_count": 2,
      "outputs": [
        {
          "output_type": "stream",
          "name": "stdout",
          "text": [
            "2.9.2\n"
          ]
        }
      ]
    },
    {
      "cell_type": "code",
      "execution_count": 3,
      "metadata": {
        "id": "k4nKifUl0XGC"
      },
      "outputs": [],
      "source": [
        "##tensorflow >2.0\n",
        "from tensorflow.keras.preprocessing.text import one_hot"
      ]
    },
    {
      "cell_type": "code",
      "source": [],
      "metadata": {
        "id": "hADTdqZTAUfS"
      },
      "execution_count": 3,
      "outputs": []
    },
    {
      "cell_type": "code",
      "execution_count": 4,
      "metadata": {
        "id": "Fu9PuYeu0XGD"
      },
      "outputs": [],
      "source": [
        "### sentences\n",
        "sent=[  'the glass of milk',\n",
        "     'the glass of juice',\n",
        "     'the cup of tea',\n",
        "    'I am a good boy',\n",
        "     'I am a good developer',\n",
        "     'understand the meaning of words',\n",
        "     'your videos are good']"
      ]
    },
    {
      "cell_type": "code",
      "execution_count": 6,
      "metadata": {
        "colab": {
          "base_uri": "https://localhost:8080/"
        },
        "id": "x5d1D3_20XGD",
        "outputId": "98030ca6-a937-4763-8f3c-b5884aaa2200"
      },
      "outputs": [
        {
          "output_type": "execute_result",
          "data": {
            "text/plain": [
              "['the glass of milk',\n",
              " 'the glass of juice',\n",
              " 'the cup of tea',\n",
              " 'I am a good boy',\n",
              " 'I am a good developer',\n",
              " 'understand the meaning of words',\n",
              " 'your videos are good']"
            ]
          },
          "metadata": {},
          "execution_count": 6
        }
      ],
      "source": [
        "sent"
      ]
    },
    {
      "cell_type": "code",
      "execution_count": 7,
      "metadata": {
        "id": "tjnXIn3B0XGE"
      },
      "outputs": [],
      "source": [
        "### Vocabulary size\n",
        "voc_size=500"
      ]
    },
    {
      "cell_type": "code",
      "source": [
        "for words in sent:\n",
        "  print(words)"
      ],
      "metadata": {
        "id": "XNMnQau74j6b",
        "outputId": "ec6f067a-9706-4f60-d6eb-f049491e785a",
        "colab": {
          "base_uri": "https://localhost:8080/"
        }
      },
      "execution_count": 19,
      "outputs": [
        {
          "output_type": "stream",
          "name": "stdout",
          "text": [
            "the glass of milk\n",
            "the glass of juice\n",
            "the cup of tea\n",
            "I am a good boy\n",
            "I am a good developer\n",
            "understand the meaning of words\n",
            "your videos are good\n"
          ]
        }
      ]
    },
    {
      "cell_type": "markdown",
      "metadata": {
        "id": "-vQOdeKk0XGE"
      },
      "source": [
        "#### One Hot Representation"
      ]
    },
    {
      "cell_type": "code",
      "execution_count": 9,
      "metadata": {
        "colab": {
          "base_uri": "https://localhost:8080/"
        },
        "id": "gojfZpAW0XGE",
        "outputId": "31d5c3a8-4f0a-4caa-be43-2de48bafdb5a"
      },
      "outputs": [
        {
          "output_type": "stream",
          "name": "stdout",
          "text": [
            "[[224, 189, 322, 356], [224, 189, 322, 88], [224, 305, 322, 156], [253, 130, 110, 236, 301], [253, 130, 110, 236, 486], [475, 224, 187, 322, 211], [218, 155, 166, 236]]\n"
          ]
        }
      ],
      "source": [
        "onehot_repr=[one_hot(words,voc_size)for words in sent] \n",
        "print(onehot_repr)"
      ]
    },
    {
      "cell_type": "markdown",
      "metadata": {
        "id": "eYG267x40XGF"
      },
      "source": [
        "### Word Embedding Represntation"
      ]
    },
    {
      "cell_type": "code",
      "execution_count": 20,
      "metadata": {
        "id": "wpqPm0tb0XGF"
      },
      "outputs": [],
      "source": [
        "from tensorflow.keras.layers import Embedding\n",
        "from tensorflow.keras.preprocessing.sequence import pad_sequences\n",
        "from tensorflow.keras.models import Sequential"
      ]
    },
    {
      "cell_type": "code",
      "execution_count": 21,
      "metadata": {
        "id": "Rov3GTM00XGG"
      },
      "outputs": [],
      "source": [
        "import numpy as np"
      ]
    },
    {
      "cell_type": "code",
      "execution_count": 22,
      "metadata": {
        "colab": {
          "base_uri": "https://localhost:8080/"
        },
        "id": "8fQLPw6p0XGG",
        "outputId": "0825e00a-c2a0-4ccf-cfb9-ea1f10f97955"
      },
      "outputs": [
        {
          "output_type": "stream",
          "name": "stdout",
          "text": [
            "[[  0   0   0   0 224 189 322 356]\n",
            " [  0   0   0   0 224 189 322  88]\n",
            " [  0   0   0   0 224 305 322 156]\n",
            " [  0   0   0 253 130 110 236 301]\n",
            " [  0   0   0 253 130 110 236 486]\n",
            " [  0   0   0 475 224 187 322 211]\n",
            " [  0   0   0   0 218 155 166 236]]\n"
          ]
        }
      ],
      "source": [
        "## pre padding\n",
        "sent_length=8\n",
        "embedded_docs=pad_sequences(onehot_repr,padding='pre',maxlen=sent_length)\n",
        "print(embedded_docs)"
      ]
    },
    {
      "cell_type": "code",
      "execution_count": 23,
      "metadata": {
        "id": "yjQqBYac0XGG"
      },
      "outputs": [],
      "source": [
        "## 10 feature dimesnions\n",
        "dim=10\n"
      ]
    },
    {
      "cell_type": "code",
      "execution_count": 24,
      "metadata": {
        "id": "ozC-TXrt0XGG"
      },
      "outputs": [],
      "source": [
        "model=Sequential()\n",
        "model.add(Embedding(voc_size,10,input_length=sent_length))\n",
        "model.compile('adam','mse')"
      ]
    },
    {
      "cell_type": "code",
      "execution_count": 25,
      "metadata": {
        "colab": {
          "base_uri": "https://localhost:8080/"
        },
        "id": "tMNvq-Ji0XGH",
        "outputId": "5caf7ef7-e348-449d-d5ad-82b01cde7d44"
      },
      "outputs": [
        {
          "output_type": "stream",
          "name": "stdout",
          "text": [
            "Model: \"sequential_1\"\n",
            "_________________________________________________________________\n",
            " Layer (type)                Output Shape              Param #   \n",
            "=================================================================\n",
            " embedding_1 (Embedding)     (None, 8, 10)             5000      \n",
            "                                                                 \n",
            "=================================================================\n",
            "Total params: 5,000\n",
            "Trainable params: 5,000\n",
            "Non-trainable params: 0\n",
            "_________________________________________________________________\n"
          ]
        }
      ],
      "source": [
        "model.summary()"
      ]
    },
    {
      "cell_type": "code",
      "source": [
        "##'the glass of milk',\n",
        "embedded_docs[0]"
      ],
      "metadata": {
        "colab": {
          "base_uri": "https://localhost:8080/"
        },
        "id": "FC4Ess_FEcb3",
        "outputId": "1e27bf13-0b77-4a46-e29e-e36b6d4ce6c6"
      },
      "execution_count": 26,
      "outputs": [
        {
          "output_type": "execute_result",
          "data": {
            "text/plain": [
              "array([  0,   0,   0,   0, 224, 189, 322, 356], dtype=int32)"
            ]
          },
          "metadata": {},
          "execution_count": 26
        }
      ]
    },
    {
      "cell_type": "code",
      "source": [
        "model.predict(embedded_docs[0])"
      ],
      "metadata": {
        "colab": {
          "base_uri": "https://localhost:8080/"
        },
        "id": "bRqEvMBYEZUS",
        "outputId": "99f8677c-9258-4415-a897-fe3f6e647353"
      },
      "execution_count": 27,
      "outputs": [
        {
          "output_type": "stream",
          "name": "stderr",
          "text": [
            "WARNING:tensorflow:Model was constructed with shape (None, 8) for input KerasTensor(type_spec=TensorSpec(shape=(None, 8), dtype=tf.float32, name='embedding_1_input'), name='embedding_1_input', description=\"created by layer 'embedding_1_input'\"), but it was called on an input with incompatible shape (None,).\n"
          ]
        },
        {
          "output_type": "stream",
          "name": "stdout",
          "text": [
            "1/1 [==============================] - 0s 167ms/step\n"
          ]
        },
        {
          "output_type": "execute_result",
          "data": {
            "text/plain": [
              "array([[-0.01485896, -0.02017902,  0.02684532, -0.01998472, -0.0221321 ,\n",
              "         0.00655091, -0.00476276, -0.02635622, -0.04453437,  0.01752963],\n",
              "       [-0.01485896, -0.02017902,  0.02684532, -0.01998472, -0.0221321 ,\n",
              "         0.00655091, -0.00476276, -0.02635622, -0.04453437,  0.01752963],\n",
              "       [-0.01485896, -0.02017902,  0.02684532, -0.01998472, -0.0221321 ,\n",
              "         0.00655091, -0.00476276, -0.02635622, -0.04453437,  0.01752963],\n",
              "       [-0.01485896, -0.02017902,  0.02684532, -0.01998472, -0.0221321 ,\n",
              "         0.00655091, -0.00476276, -0.02635622, -0.04453437,  0.01752963],\n",
              "       [ 0.01771394, -0.02547144,  0.01733268,  0.04778082,  0.01624341,\n",
              "        -0.02332412, -0.02629685, -0.00035576, -0.03390198, -0.02170842],\n",
              "       [-0.03548602,  0.03361007,  0.00482144, -0.00563413, -0.04277164,\n",
              "         0.03826493,  0.04417076, -0.03915819,  0.02270235, -0.02798408],\n",
              "       [ 0.00192933,  0.01001908, -0.04835625,  0.04329062,  0.02901671,\n",
              "         0.0432708 , -0.04931339, -0.04824153,  0.02265849,  0.03115146],\n",
              "       [ 0.00687198, -0.01074358,  0.00387838, -0.03361018,  0.00112544,\n",
              "         0.01291483, -0.03879603,  0.00896483, -0.04284155, -0.00816747]],\n",
              "      dtype=float32)"
            ]
          },
          "metadata": {},
          "execution_count": 27
        }
      ]
    },
    {
      "cell_type": "code",
      "execution_count": 28,
      "metadata": {
        "colab": {
          "base_uri": "https://localhost:8080/"
        },
        "id": "kzKP69gx0XGH",
        "outputId": "89d48477-28a7-49c8-a8de-de901836b168"
      },
      "outputs": [
        {
          "output_type": "stream",
          "name": "stdout",
          "text": [
            "1/1 [==============================] - 0s 49ms/step\n",
            "[[[-1.48589611e-02 -2.01790221e-02  2.68453248e-02 -1.99847221e-02\n",
            "   -2.21320987e-02  6.55090809e-03 -4.76275757e-03 -2.63562202e-02\n",
            "   -4.45343740e-02  1.75296329e-02]\n",
            "  [-1.48589611e-02 -2.01790221e-02  2.68453248e-02 -1.99847221e-02\n",
            "   -2.21320987e-02  6.55090809e-03 -4.76275757e-03 -2.63562202e-02\n",
            "   -4.45343740e-02  1.75296329e-02]\n",
            "  [-1.48589611e-02 -2.01790221e-02  2.68453248e-02 -1.99847221e-02\n",
            "   -2.21320987e-02  6.55090809e-03 -4.76275757e-03 -2.63562202e-02\n",
            "   -4.45343740e-02  1.75296329e-02]\n",
            "  [-1.48589611e-02 -2.01790221e-02  2.68453248e-02 -1.99847221e-02\n",
            "   -2.21320987e-02  6.55090809e-03 -4.76275757e-03 -2.63562202e-02\n",
            "   -4.45343740e-02  1.75296329e-02]\n",
            "  [ 1.77139379e-02 -2.54714377e-02  1.73326842e-02  4.77808155e-02\n",
            "    1.62434094e-02 -2.33241208e-02 -2.62968540e-02 -3.55757773e-04\n",
            "   -3.39019783e-02 -2.17084177e-02]\n",
            "  [-3.54860201e-02  3.36100720e-02  4.82144207e-03 -5.63412905e-03\n",
            "   -4.27716374e-02  3.82649340e-02  4.41707633e-02 -3.91581878e-02\n",
            "    2.27023475e-02 -2.79840827e-02]\n",
            "  [ 1.92933157e-03  1.00190751e-02 -4.83562462e-02  4.32906188e-02\n",
            "    2.90167071e-02  4.32708003e-02 -4.93133925e-02 -4.82415333e-02\n",
            "    2.26584934e-02  3.11514623e-02]\n",
            "  [ 6.87197596e-03 -1.07435808e-02  3.87837738e-03 -3.36101800e-02\n",
            "    1.12544373e-03  1.29148252e-02 -3.87960300e-02  8.96482542e-03\n",
            "   -4.28415537e-02 -8.16746801e-03]]\n",
            "\n",
            " [[-1.48589611e-02 -2.01790221e-02  2.68453248e-02 -1.99847221e-02\n",
            "   -2.21320987e-02  6.55090809e-03 -4.76275757e-03 -2.63562202e-02\n",
            "   -4.45343740e-02  1.75296329e-02]\n",
            "  [-1.48589611e-02 -2.01790221e-02  2.68453248e-02 -1.99847221e-02\n",
            "   -2.21320987e-02  6.55090809e-03 -4.76275757e-03 -2.63562202e-02\n",
            "   -4.45343740e-02  1.75296329e-02]\n",
            "  [-1.48589611e-02 -2.01790221e-02  2.68453248e-02 -1.99847221e-02\n",
            "   -2.21320987e-02  6.55090809e-03 -4.76275757e-03 -2.63562202e-02\n",
            "   -4.45343740e-02  1.75296329e-02]\n",
            "  [-1.48589611e-02 -2.01790221e-02  2.68453248e-02 -1.99847221e-02\n",
            "   -2.21320987e-02  6.55090809e-03 -4.76275757e-03 -2.63562202e-02\n",
            "   -4.45343740e-02  1.75296329e-02]\n",
            "  [ 1.77139379e-02 -2.54714377e-02  1.73326842e-02  4.77808155e-02\n",
            "    1.62434094e-02 -2.33241208e-02 -2.62968540e-02 -3.55757773e-04\n",
            "   -3.39019783e-02 -2.17084177e-02]\n",
            "  [-3.54860201e-02  3.36100720e-02  4.82144207e-03 -5.63412905e-03\n",
            "   -4.27716374e-02  3.82649340e-02  4.41707633e-02 -3.91581878e-02\n",
            "    2.27023475e-02 -2.79840827e-02]\n",
            "  [ 1.92933157e-03  1.00190751e-02 -4.83562462e-02  4.32906188e-02\n",
            "    2.90167071e-02  4.32708003e-02 -4.93133925e-02 -4.82415333e-02\n",
            "    2.26584934e-02  3.11514623e-02]\n",
            "  [ 1.38175488e-03 -2.12380048e-02 -4.45531718e-02  3.44096757e-02\n",
            "   -1.36694089e-02 -5.05007431e-03 -1.33298039e-02  4.98983748e-02\n",
            "   -1.77040473e-02  9.41753387e-05]]\n",
            "\n",
            " [[-1.48589611e-02 -2.01790221e-02  2.68453248e-02 -1.99847221e-02\n",
            "   -2.21320987e-02  6.55090809e-03 -4.76275757e-03 -2.63562202e-02\n",
            "   -4.45343740e-02  1.75296329e-02]\n",
            "  [-1.48589611e-02 -2.01790221e-02  2.68453248e-02 -1.99847221e-02\n",
            "   -2.21320987e-02  6.55090809e-03 -4.76275757e-03 -2.63562202e-02\n",
            "   -4.45343740e-02  1.75296329e-02]\n",
            "  [-1.48589611e-02 -2.01790221e-02  2.68453248e-02 -1.99847221e-02\n",
            "   -2.21320987e-02  6.55090809e-03 -4.76275757e-03 -2.63562202e-02\n",
            "   -4.45343740e-02  1.75296329e-02]\n",
            "  [-1.48589611e-02 -2.01790221e-02  2.68453248e-02 -1.99847221e-02\n",
            "   -2.21320987e-02  6.55090809e-03 -4.76275757e-03 -2.63562202e-02\n",
            "   -4.45343740e-02  1.75296329e-02]\n",
            "  [ 1.77139379e-02 -2.54714377e-02  1.73326842e-02  4.77808155e-02\n",
            "    1.62434094e-02 -2.33241208e-02 -2.62968540e-02 -3.55757773e-04\n",
            "   -3.39019783e-02 -2.17084177e-02]\n",
            "  [ 7.61596113e-03 -3.06021702e-02 -4.49899435e-02  3.25222127e-02\n",
            "    1.25526302e-02 -4.39172387e-02  4.12934683e-02  3.40976231e-02\n",
            "   -1.49587616e-02  9.14447382e-03]\n",
            "  [ 1.92933157e-03  1.00190751e-02 -4.83562462e-02  4.32906188e-02\n",
            "    2.90167071e-02  4.32708003e-02 -4.93133925e-02 -4.82415333e-02\n",
            "    2.26584934e-02  3.11514623e-02]\n",
            "  [ 2.81720497e-02 -1.14960894e-02 -1.03053562e-02 -4.92749922e-02\n",
            "   -1.85629614e-02  2.85811685e-02 -9.83595848e-03  4.59004194e-04\n",
            "   -3.76851447e-02  2.75820531e-02]]\n",
            "\n",
            " [[-1.48589611e-02 -2.01790221e-02  2.68453248e-02 -1.99847221e-02\n",
            "   -2.21320987e-02  6.55090809e-03 -4.76275757e-03 -2.63562202e-02\n",
            "   -4.45343740e-02  1.75296329e-02]\n",
            "  [-1.48589611e-02 -2.01790221e-02  2.68453248e-02 -1.99847221e-02\n",
            "   -2.21320987e-02  6.55090809e-03 -4.76275757e-03 -2.63562202e-02\n",
            "   -4.45343740e-02  1.75296329e-02]\n",
            "  [-1.48589611e-02 -2.01790221e-02  2.68453248e-02 -1.99847221e-02\n",
            "   -2.21320987e-02  6.55090809e-03 -4.76275757e-03 -2.63562202e-02\n",
            "   -4.45343740e-02  1.75296329e-02]\n",
            "  [ 4.46411222e-03 -4.55092564e-02  1.77229531e-02  7.93286413e-03\n",
            "    2.44291462e-02  1.15175359e-02  6.01049513e-03  1.97038800e-03\n",
            "   -3.45408916e-03  4.02508117e-02]\n",
            "  [-2.09823977e-02  1.00985281e-02 -4.22067642e-02  8.83828476e-03\n",
            "    1.55606009e-02  3.66549157e-02 -1.59824975e-02 -4.14752960e-02\n",
            "   -2.88203601e-02  2.98625566e-02]\n",
            "  [ 4.87503298e-02  1.76271908e-02  3.25961970e-02 -6.03003427e-03\n",
            "    4.49072830e-02 -1.92674045e-02 -1.15891807e-02 -1.86610110e-02\n",
            "   -1.57497749e-02 -9.17389244e-03]\n",
            "  [-3.67981307e-02 -1.72378533e-02  2.93879583e-03  3.53379138e-02\n",
            "   -1.13286488e-02 -1.09216087e-02  3.48953716e-02 -4.81369346e-03\n",
            "   -1.87586080e-02 -4.24080752e-02]\n",
            "  [-1.99186206e-02 -4.51045297e-02  4.30158712e-02 -2.90769339e-02\n",
            "    1.02798827e-02 -1.85292736e-02  4.74074818e-02  9.09493119e-03\n",
            "    4.41591404e-02 -4.24994342e-02]]\n",
            "\n",
            " [[-1.48589611e-02 -2.01790221e-02  2.68453248e-02 -1.99847221e-02\n",
            "   -2.21320987e-02  6.55090809e-03 -4.76275757e-03 -2.63562202e-02\n",
            "   -4.45343740e-02  1.75296329e-02]\n",
            "  [-1.48589611e-02 -2.01790221e-02  2.68453248e-02 -1.99847221e-02\n",
            "   -2.21320987e-02  6.55090809e-03 -4.76275757e-03 -2.63562202e-02\n",
            "   -4.45343740e-02  1.75296329e-02]\n",
            "  [-1.48589611e-02 -2.01790221e-02  2.68453248e-02 -1.99847221e-02\n",
            "   -2.21320987e-02  6.55090809e-03 -4.76275757e-03 -2.63562202e-02\n",
            "   -4.45343740e-02  1.75296329e-02]\n",
            "  [ 4.46411222e-03 -4.55092564e-02  1.77229531e-02  7.93286413e-03\n",
            "    2.44291462e-02  1.15175359e-02  6.01049513e-03  1.97038800e-03\n",
            "   -3.45408916e-03  4.02508117e-02]\n",
            "  [-2.09823977e-02  1.00985281e-02 -4.22067642e-02  8.83828476e-03\n",
            "    1.55606009e-02  3.66549157e-02 -1.59824975e-02 -4.14752960e-02\n",
            "   -2.88203601e-02  2.98625566e-02]\n",
            "  [ 4.87503298e-02  1.76271908e-02  3.25961970e-02 -6.03003427e-03\n",
            "    4.49072830e-02 -1.92674045e-02 -1.15891807e-02 -1.86610110e-02\n",
            "   -1.57497749e-02 -9.17389244e-03]\n",
            "  [-3.67981307e-02 -1.72378533e-02  2.93879583e-03  3.53379138e-02\n",
            "   -1.13286488e-02 -1.09216087e-02  3.48953716e-02 -4.81369346e-03\n",
            "   -1.87586080e-02 -4.24080752e-02]\n",
            "  [-1.31987557e-02 -3.58521342e-02  7.30017573e-03 -4.17594090e-02\n",
            "    3.58782895e-02  1.34779550e-02  4.28267159e-02  4.11182307e-02\n",
            "    4.58661579e-02 -1.64219737e-02]]\n",
            "\n",
            " [[-1.48589611e-02 -2.01790221e-02  2.68453248e-02 -1.99847221e-02\n",
            "   -2.21320987e-02  6.55090809e-03 -4.76275757e-03 -2.63562202e-02\n",
            "   -4.45343740e-02  1.75296329e-02]\n",
            "  [-1.48589611e-02 -2.01790221e-02  2.68453248e-02 -1.99847221e-02\n",
            "   -2.21320987e-02  6.55090809e-03 -4.76275757e-03 -2.63562202e-02\n",
            "   -4.45343740e-02  1.75296329e-02]\n",
            "  [-1.48589611e-02 -2.01790221e-02  2.68453248e-02 -1.99847221e-02\n",
            "   -2.21320987e-02  6.55090809e-03 -4.76275757e-03 -2.63562202e-02\n",
            "   -4.45343740e-02  1.75296329e-02]\n",
            "  [-3.10960654e-02 -1.29899606e-02 -2.99291611e-02 -4.16040197e-02\n",
            "    2.97736563e-02  1.29826553e-02  8.36926699e-03  1.63771547e-02\n",
            "   -7.27526098e-03  2.44333856e-02]\n",
            "  [ 1.77139379e-02 -2.54714377e-02  1.73326842e-02  4.77808155e-02\n",
            "    1.62434094e-02 -2.33241208e-02 -2.62968540e-02 -3.55757773e-04\n",
            "   -3.39019783e-02 -2.17084177e-02]\n",
            "  [-3.10425293e-02  3.85468341e-02  4.34581898e-02  4.73146699e-02\n",
            "   -1.15938783e-02  1.51616372e-02 -4.74645942e-03  2.28026770e-02\n",
            "   -3.75879034e-02  2.48484053e-02]\n",
            "  [ 1.92933157e-03  1.00190751e-02 -4.83562462e-02  4.32906188e-02\n",
            "    2.90167071e-02  4.32708003e-02 -4.93133925e-02 -4.82415333e-02\n",
            "    2.26584934e-02  3.11514623e-02]\n",
            "  [-9.83983278e-03  4.92349304e-02 -3.10190916e-02 -1.93568468e-02\n",
            "   -4.48693521e-02  1.40364058e-02  4.98528741e-02 -2.59141810e-02\n",
            "    1.06587261e-03 -1.68983825e-02]]\n",
            "\n",
            " [[-1.48589611e-02 -2.01790221e-02  2.68453248e-02 -1.99847221e-02\n",
            "   -2.21320987e-02  6.55090809e-03 -4.76275757e-03 -2.63562202e-02\n",
            "   -4.45343740e-02  1.75296329e-02]\n",
            "  [-1.48589611e-02 -2.01790221e-02  2.68453248e-02 -1.99847221e-02\n",
            "   -2.21320987e-02  6.55090809e-03 -4.76275757e-03 -2.63562202e-02\n",
            "   -4.45343740e-02  1.75296329e-02]\n",
            "  [-1.48589611e-02 -2.01790221e-02  2.68453248e-02 -1.99847221e-02\n",
            "   -2.21320987e-02  6.55090809e-03 -4.76275757e-03 -2.63562202e-02\n",
            "   -4.45343740e-02  1.75296329e-02]\n",
            "  [-1.48589611e-02 -2.01790221e-02  2.68453248e-02 -1.99847221e-02\n",
            "   -2.21320987e-02  6.55090809e-03 -4.76275757e-03 -2.63562202e-02\n",
            "   -4.45343740e-02  1.75296329e-02]\n",
            "  [ 1.86298601e-02  3.14874388e-02  1.15096569e-02 -3.85293961e-02\n",
            "    1.43098831e-03  3.45028751e-02 -5.04963472e-03 -3.59676592e-02\n",
            "   -4.84857559e-02 -1.55770183e-02]\n",
            "  [ 3.91658656e-02  3.65718938e-02 -1.79866180e-02 -2.55932659e-03\n",
            "   -3.30842882e-02 -2.66801603e-02  2.34640576e-02 -1.07689723e-02\n",
            "    2.05784105e-02 -3.86272669e-02]\n",
            "  [ 4.98601459e-02 -1.22452155e-02  2.05522440e-02 -2.35537421e-02\n",
            "   -3.91116515e-02  4.23360504e-02  1.71357505e-02 -3.99567597e-02\n",
            "    7.29393959e-03 -4.08382192e-02]\n",
            "  [-3.67981307e-02 -1.72378533e-02  2.93879583e-03  3.53379138e-02\n",
            "   -1.13286488e-02 -1.09216087e-02  3.48953716e-02 -4.81369346e-03\n",
            "   -1.87586080e-02 -4.24080752e-02]]]\n"
          ]
        }
      ],
      "source": [
        "print(model.predict(embedded_docs))"
      ]
    },
    {
      "cell_type": "code",
      "execution_count": 29,
      "metadata": {
        "id": "JuUxfk7d0XGH",
        "outputId": "42738536-929c-461e-8a39-0e6844abb307",
        "colab": {
          "base_uri": "https://localhost:8080/"
        }
      },
      "outputs": [
        {
          "output_type": "execute_result",
          "data": {
            "text/plain": [
              "array([  0,   0,   0,   0, 224, 189, 322, 356], dtype=int32)"
            ]
          },
          "metadata": {},
          "execution_count": 29
        }
      ],
      "source": [
        "embedded_docs[0]"
      ]
    },
    {
      "cell_type": "code",
      "execution_count": 30,
      "metadata": {
        "id": "6JJ_zD0u0XGH",
        "outputId": "fefc9b64-727c-4511-a51a-e7be9d0df741",
        "colab": {
          "base_uri": "https://localhost:8080/"
        }
      },
      "outputs": [
        {
          "output_type": "stream",
          "name": "stdout",
          "text": [
            "1/1 [==============================] - 0s 17ms/step\n",
            "[[-0.01485896 -0.02017902  0.02684532 -0.01998472 -0.0221321   0.00655091\n",
            "  -0.00476276 -0.02635622 -0.04453437  0.01752963]\n",
            " [-0.01485896 -0.02017902  0.02684532 -0.01998472 -0.0221321   0.00655091\n",
            "  -0.00476276 -0.02635622 -0.04453437  0.01752963]\n",
            " [-0.01485896 -0.02017902  0.02684532 -0.01998472 -0.0221321   0.00655091\n",
            "  -0.00476276 -0.02635622 -0.04453437  0.01752963]\n",
            " [-0.01485896 -0.02017902  0.02684532 -0.01998472 -0.0221321   0.00655091\n",
            "  -0.00476276 -0.02635622 -0.04453437  0.01752963]\n",
            " [ 0.01771394 -0.02547144  0.01733268  0.04778082  0.01624341 -0.02332412\n",
            "  -0.02629685 -0.00035576 -0.03390198 -0.02170842]\n",
            " [-0.03548602  0.03361007  0.00482144 -0.00563413 -0.04277164  0.03826493\n",
            "   0.04417076 -0.03915819  0.02270235 -0.02798408]\n",
            " [ 0.00192933  0.01001908 -0.04835625  0.04329062  0.02901671  0.0432708\n",
            "  -0.04931339 -0.04824153  0.02265849  0.03115146]\n",
            " [ 0.00687198 -0.01074358  0.00387838 -0.03361018  0.00112544  0.01291483\n",
            "  -0.03879603  0.00896483 -0.04284155 -0.00816747]]\n"
          ]
        }
      ],
      "source": [
        "print(model.predict(embedded_docs)[0])"
      ]
    },
    {
      "cell_type": "code",
      "execution_count": 31,
      "metadata": {
        "id": "8OMu3iAz0XGH"
      },
      "outputs": [],
      "source": [
        "### Assignment\n",
        "\n",
        "sent=[\"The world is a better place\",\n",
        "      \"Marvel series is my favourite movie\",\n",
        "      \"I like DC movies\",\n",
        "      \"the cat is eating the food\",\n",
        "      \"Tom and Jerry is my favourite movie\",\n",
        "      \"Python is my favourite programming language\"\n",
        "      ]"
      ]
    },
    {
      "cell_type": "code",
      "source": [],
      "metadata": {
        "id": "n0xuQOkz5rno"
      },
      "execution_count": null,
      "outputs": []
    }
  ],
  "metadata": {
    "kernelspec": {
      "display_name": "Python 3",
      "language": "python",
      "name": "python3"
    },
    "language_info": {
      "codemirror_mode": {
        "name": "ipython",
        "version": 3
      },
      "file_extension": ".py",
      "mimetype": "text/x-python",
      "name": "python",
      "nbconvert_exporter": "python",
      "pygments_lexer": "ipython3",
      "version": "3.7.4"
    },
    "colab": {
      "provenance": [],
      "toc_visible": true,
      "include_colab_link": true
    },
    "accelerator": "GPU",
    "gpuClass": "standard"
  },
  "nbformat": 4,
  "nbformat_minor": 0
}